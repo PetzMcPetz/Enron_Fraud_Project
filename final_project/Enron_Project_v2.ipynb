{
 "cells": [
  {
   "cell_type": "markdown",
   "metadata": {},
   "source": [
    "ReadMe\n",
    "-------\n",
    "\n",
    "Please note that the poi_id.py contains only functions and is imported as python modul.\n",
    "I walked trough the project as follows:\n",
    "\n",
    "1. Preparing final dataset (new feature, outlier removal)\n",
    "2. Sort features according scores using KBest\n",
    "3. Run classifier with different features range (2-15)\n",
    "4. Select features\n",
    "5. Run GridsearchCV with selected features for algorithm tuning\n",
    "6. Repeat step 3 for check\n",
    "7. Validate algorithm\n",
    "8. Save final data\n",
    "9. Check with tester_project.py"
   ]
  },
  {
   "cell_type": "code",
   "execution_count": 1,
   "metadata": {},
   "outputs": [],
   "source": [
    "from __future__ import division, print_function\n",
    "import pprint\n",
    "import pandas as pd\n",
    "import sys\n",
    "import seaborn as sns\n",
    "sns.set()\n",
    "\n",
    "sys.path.append(\"../tools/\")\n",
    "pd.set_option('display.expand_frame_repr', False)\n",
    "\n",
    "%matplotlib inline\n",
    "import matplotlib\n",
    "import matplotlib.pyplot as plt\n",
    "import pickle"
   ]
  },
  {
   "cell_type": "code",
   "execution_count": 2,
   "metadata": {},
   "outputs": [],
   "source": [
    "from sklearn.naive_bayes import GaussianNB\n",
    "from sklearn.svm import SVC\n",
    "from sklearn.tree import DecisionTreeClassifier\n",
    "\n",
    "from sklearn.preprocessing import MinMaxScaler\n",
    "from sklearn.pipeline import Pipeline\n",
    "from sklearn.model_selection import train_test_split, GridSearchCV\n",
    "from sklearn.metrics import accuracy_score, precision_score, recall_score, confusion_matrix, f1_score"
   ]
  },
  {
   "cell_type": "code",
   "execution_count": 3,
   "metadata": {},
   "outputs": [],
   "source": [
    "# Import Functions\n",
    "import poi_id_v2 as poi\n",
    "import tester_project as tester\n",
    "from feature_format import featureFormat, targetFeatureSplit"
   ]
  },
  {
   "cell_type": "markdown",
   "metadata": {},
   "source": [
    "Identify Fraud from Enron Email\n",
    "======\n",
    "\n",
    "Project Overview\n",
    "-----------------\n",
    "\n",
    "Enron was a big energy company founded in 1985 out of three north american energy companies . After deregulation of the energy market, Enron became the largest seller of natural gas in North America by 1992.\n",
    "A very complex business model itself, complex financial statements and unethical practices resulted in misrepresentation of  earnings and modifcation of balance sheets in large scale. This kind of fraud was driven and pushed by enron managment. The fraud key-player are named hereafter persons of interest 'POI'.\n",
    "In november 2001 the enron story ends with the largest bankruptcy in U.S. historys since 1970.\n",
    "\n",
    "https://en.wikipedia.org/wiki/Enron_scandal\n",
    "\n",
    "The provided project data is a hand curated dataset of more than hundred enron employes, mainly enron high management.\n",
    "The source of the data is a large e-mail collection, which was published from Fedral Energy Regulatory Commission during the process"
   ]
  },
  {
   "cell_type": "markdown",
   "metadata": {},
   "source": [
    "Project Question 1\n",
    "------\n",
    "\n",
    "*Summarize for us the goal of this project and how machine learning is\n",
    "useful in trying to accomplish it. As part of your answer, give some\n",
    "background on the dataset and how it can be used to answer the\n",
    "project question. Were there any outliers in the data when you got it,\n",
    "and how did you handle those? [relevant rubric items: “data\n",
    "exploration”, “outlier investigation”]*"
   ]
  },
  {
   "cell_type": "markdown",
   "metadata": {},
   "source": [
    "### Q1\n",
    "\n",
    "Goal of the project is to build a prediction model that can predict POIs / Non-POIs with high accuracy based on the provided data.\n",
    "\n",
    "The type of dataset is a dictionary where the keys are enron persons with their names:\n",
    "\n",
    " * 146 Names  \n",
    " * 18 Names marked as POI\n",
    "\n",
    "Behind every name a feature dictionary with metadata can be found:  \n",
    " * 21 Features\n"
   ]
  },
  {
   "cell_type": "code",
   "execution_count": 4,
   "metadata": {},
   "outputs": [],
   "source": [
    "# Load Data\n",
    "data_dict = poi.load_dataset()"
   ]
  },
  {
   "cell_type": "code",
   "execution_count": 5,
   "metadata": {},
   "outputs": [
    {
     "name": "stdout",
     "output_type": "stream",
     "text": [
      "Datapoints: 146\n",
      "Features: 21\n",
      "Person of Interest (POI): 18\n",
      "\n",
      "List of POIs:\n",
      "\n",
      "BELDEN TIMOTHY N        True\n",
      "BOWEN JR RAYMOND M      True\n",
      "CALGER CHRISTOPHER F    True\n",
      "CAUSEY RICHARD A        True\n",
      "COLWELL WESLEY          True\n",
      "DELAINEY DAVID W        True\n",
      "FASTOW ANDREW S         True\n",
      "GLISAN JR BEN F         True\n",
      "HANNON KEVIN P          True\n",
      "HIRKO JOSEPH            True\n",
      "KOENIG MARK E           True\n",
      "KOPPER MICHAEL J        True\n",
      "LAY KENNETH L           True\n",
      "RICE KENNETH D          True\n",
      "RIEKER PAULA H          True\n",
      "SHELBY REX              True\n",
      "SKILLING JEFFREY K      True\n",
      "YEAGER F SCOTT          True\n",
      "Name: poi, dtype: bool\n"
     ]
    }
   ],
   "source": [
    "print (\"Datapoints:\",len(data_dict))\n",
    "print (\"Features:\",len(data_dict['BELDEN TIMOTHY N']))\n",
    "\n",
    "# Check features\n",
    "feature_list        = poi.get_feature(data_dict, [])\n",
    "df = pd.DataFrame.from_dict(data_dict, orient='index', columns =feature_list )\n",
    "mask = df['poi']==True\n",
    "print (\"Person of Interest (POI):\",len(df[mask]['poi']))\n",
    "print ('')\n",
    "print ('List of POIs:')\n",
    "print ('')\n",
    "print (df[mask]['poi'])"
   ]
  },
  {
   "cell_type": "markdown",
   "metadata": {},
   "source": [
    "### Q1\n",
    "\n",
    "During the first quick check of the dataset, it was observed that a lot of features showing 'NaN' entries, which means no information available. To get an overview about the 'NaN' proportion per feature, the overview is shown below in table format.\n",
    "As we can see, the completeness of data is varying a lot for the different features. This will probably play a more important role when i have to select the features for the model training. For the moment i will use the first 5 most complete features for a first visualization to see how the datapoints are spread.\n",
    "\n",
    "The scatter plots show clearly one very dominant outlier, which was found to be a non-real person. In total i have removed:\n",
    "\n",
    " * 'TOTAL'  (non-real person)\n",
    " * 'THE TRAVEL AGENCY IN THE PARK'  (non-real person)\n",
    " * 'LOCKHART EUGENE E'  (all features NaN) "
   ]
  },
  {
   "cell_type": "code",
   "execution_count": 6,
   "metadata": {},
   "outputs": [
    {
     "name": "stdout",
     "output_type": "stream",
     "text": [
      "                           NaN Count  NaN Proportion\n",
      "poi                                0        0.000000\n",
      "total_stock_value                 20        0.136986\n",
      "total_payments                    21        0.143836\n",
      "email_address                     35        0.239726\n",
      "restricted_stock                  36        0.246575\n",
      "exercised_stock_options           44        0.301370\n",
      "salary                            51        0.349315\n",
      "expenses                          51        0.349315\n",
      "other                             53        0.363014\n",
      "to_messages                       60        0.410959\n",
      "from_this_person_to_poi           60        0.410959\n",
      "shared_receipt_with_poi           60        0.410959\n",
      "from_messages                     60        0.410959\n",
      "from_poi_to_this_person           60        0.410959\n",
      "bonus                             64        0.438356\n",
      "long_term_incentive               80        0.547945\n",
      "deferred_income                   97        0.664384\n",
      "deferral_payments                107        0.732877\n",
      "restricted_stock_deferred        128        0.876712\n",
      "director_fees                    129        0.883562\n",
      "loan_advances                    142        0.972603\n"
     ]
    }
   ],
   "source": [
    "print (poi.nan_check(data_dict))"
   ]
  },
  {
   "cell_type": "code",
   "execution_count": 7,
   "metadata": {},
   "outputs": [
    {
     "name": "stderr",
     "output_type": "stream",
     "text": [
      "C:\\Users\\PetzM\\anaconda3\\envs\\Machine_Learning\\lib\\site-packages\\statsmodels\\nonparametric\\kde.py:487: RuntimeWarning: invalid value encountered in true_divide\n",
      "  binned = fast_linbin(X, a, b, gridsize) / (delta * nobs)\n",
      "C:\\Users\\PetzM\\anaconda3\\envs\\Machine_Learning\\lib\\site-packages\\statsmodels\\nonparametric\\kdetools.py:34: RuntimeWarning: invalid value encountered in double_scalars\n",
      "  FAC1 = 2*(np.pi*bw/RANGE)**2\n"
     ]
    },
    {
     "data": {
      "text/plain": [
       "<seaborn.axisgrid.PairGrid at 0xd141e48>"
      ]
     },
     "execution_count": 7,
     "metadata": {},
     "output_type": "execute_result"
    },
    {
     "data": {
      "image/png": "[encoded data removed]",
      "text/plain": [
       "<Figure size 930.35x864 with 12 Axes>"
      ]
     },
     "metadata": {
      "needs_background": "light"
     },
     "output_type": "display_data"
    }
   ],
   "source": [
    "feature_list = ['poi', 'total_stock_value', 'total_payments']\n",
    "df=poi.df_features(data_dict,feature_list)\n",
    "sns.pairplot(df, hue='poi',height=4)"
   ]
  },
  {
   "cell_type": "code",
   "execution_count": 8,
   "metadata": {},
   "outputs": [
    {
     "name": "stdout",
     "output_type": "stream",
     "text": [
      "   total_payments              Name    Poi\n",
      "0       309886585             TOTAL  False\n",
      "1       103559793     LAY KENNETH L   True\n",
      "2        17252530    FREVERT MARK A  False\n",
      "3        15456290  BHATNAGAR SANJAY  False\n",
      "4        10425757   LAVORATO JOHN J  False\n",
      "\n",
      "['LOCKHART EUGENE E']\n"
     ]
    }
   ],
   "source": [
    "# Identify outlier\n",
    "poi.check_outlier(data_dict, 'total_payments')\n",
    "print ('')\n",
    "\n",
    "# Check data for additional problematic datapoints\n",
    "nan_email_list, nan_all_list, poi_data_dict = poi.check_dataset(data_dict)\n",
    "print (nan_all_list)\n",
    "\n",
    "# Remove identified problematic datapoints\n",
    "outlier = ['TOTAL', 'THE TRAVEL AGENCY IN THE PARK', 'LOCKHART EUGENE E']\n",
    "my_dataset = poi.remove_outlier(data_dict, outlier)"
   ]
  },
  {
   "cell_type": "markdown",
   "metadata": {},
   "source": [
    "Project Question 2\n",
    "------\n",
    "\n",
    "*What features did you end up using in your POI identifier, and what selection process did you use to pick them? Did you have to do any scaling? Why or why not? As part of the assignment, you should attempt to engineer your own feature that does not come ready-made in the dataset -- explain what feature you tried to make, and the rationale behind it. (You do not necessarily have to use it in the final analysis, only engineer and test it.) In your feature selection step, if you used an algorithm like a decision tree, please also give the feature importances of the features that you use, and if you used an automated feature selection function like SelectKBest, please report the feature scores and reasons for your choice of parameter values.\n",
    "[relevant rubric items: “create new features”, “intelligently select\n",
    "features”, “properly scale features”]*"
   ]
  },
  {
   "cell_type": "markdown",
   "metadata": {},
   "source": [
    "### Q2\n",
    "\n",
    "Before going into feature selection process i have created two additional features based on already available message informations:\n",
    "\n",
    " * 'fraction_from_poi' = 'from_poi_to_this_person' / 'to_messages'\n",
    " * 'fraction_to_poi' = 'from_this_person_to_poi' / 'from_messages'\n",
    " \n",
    "The rationale behind, is that these new features will probably provide more informations than total numbers of received or send messages. A high fraction of information traffic with a POI might identify the person itself as POI.\n",
    "\n",
    "The new created features were not checked explicitly, since i have used as next step SelectKBest for ranking all the features according to their scores."
   ]
  },
  {
   "cell_type": "code",
   "execution_count": 9,
   "metadata": {},
   "outputs": [],
   "source": [
    "# Create new features\n",
    "my_dataset = poi.create_new_message_feature(my_dataset)\n",
    "\n",
    "# Exclude non-relevant features and get final feature List\n",
    "excluded_features   = ['email_address']\n",
    "feature_list        = poi.get_feature(my_dataset, excluded_features)\n",
    "\n",
    "# Split data in labels and features\n",
    "data = featureFormat(my_dataset, feature_list, sort_keys = True)\n",
    "labels, features = targetFeatureSplit(data)"
   ]
  },
  {
   "cell_type": "code",
   "execution_count": 10,
   "metadata": {},
   "outputs": [
    {
     "name": "stdout",
     "output_type": "stream",
     "text": [
      "                      Feature  KBest Score\n",
      "0     exercised_stock_options    24.815080\n",
      "1           total_stock_value    24.182899\n",
      "2                       bonus    20.792252\n",
      "3                      salary    18.289684\n",
      "4             fraction_to_poi    16.409713\n",
      "5             deferred_income    11.458477\n",
      "6         long_term_incentive     9.922186\n",
      "7            restricted_stock     9.212811\n",
      "8              total_payments     8.772778\n",
      "9     shared_receipt_with_poi     8.589421\n",
      "10              loan_advances     7.184056\n",
      "11                   expenses     6.094173\n",
      "12    from_poi_to_this_person     5.243450\n",
      "13                      other     4.187478\n",
      "14          fraction_from_poi     3.128092\n",
      "15    from_this_person_to_poi     2.382612\n",
      "16              director_fees     2.126328\n",
      "17                to_messages     1.646341\n",
      "18          deferral_payments     0.224611\n",
      "19              from_messages     0.169701\n",
      "20  restricted_stock_deferred     0.065500\n"
     ]
    }
   ],
   "source": [
    "k=len(features[0])\n",
    "\n",
    "# Get sorted features according the KBest scores\n",
    "kBest_features, sorted_scores, kBest_features_list = poi.get_KBest(features, labels, k, feature_list)\n",
    "\n",
    "sorted_features_list = ['poi'] + kBest_features_list\n",
    "\n",
    "print (pd.DataFrame(sorted_scores,columns=['Feature','KBest Score']))"
   ]
  },
  {
   "cell_type": "code",
   "execution_count": 11,
   "metadata": {},
   "outputs": [
    {
     "data": {
      "text/plain": [
       "<seaborn.axisgrid.PairGrid at 0xe991bc8>"
      ]
     },
     "execution_count": 11,
     "metadata": {},
     "output_type": "execute_result"
    },
    {
     "data": {
      "image/png": "[encoded data removed]",
      "text/plain": [
       "<Figure size 930.35x864 with 12 Axes>"
      ]
     },
     "metadata": {
      "needs_background": "light"
     },
     "output_type": "display_data"
    }
   ],
   "source": [
    "feature_list = ['poi', 'exercised_stock_options', 'total_stock_value']\n",
    "df=poi.df_features(my_dataset,feature_list)\n",
    "sns.pairplot(df, hue='poi',height=4)"
   ]
  },
  {
   "cell_type": "markdown",
   "metadata": {},
   "source": [
    "I have tested the performance of different classifiers in a feature range 2-16 based on the KBest ranking. Finally i decided to select the first 6 KBest features for the model training for which i have received the best f1 scores.\n",
    "  \n",
    "Before passing them into my classifier, the selected features were scaled with a min-max scaler. This is necessary because the different features having also different units (e.g. dollar vs. message number) and therefore also large discrepancies in the range of values. Some classifiers don't consider these effects, but the SVM i selected does."
   ]
  },
  {
   "cell_type": "markdown",
   "metadata": {},
   "source": [
    "Project Question 3\n",
    "------\n",
    "\n",
    "*What algorithm did you end up using? What other one(s) did you try?\n",
    "How did model performance differ between algorithms? [relevant\n",
    "rubric item: “pick an algorithm”*"
   ]
  },
  {
   "cell_type": "markdown",
   "metadata": {},
   "source": [
    "### Q3\n",
    "\n",
    "I have tried three different alogrithm which are:\n",
    "\n",
    " * 'DecisionTree'  \n",
    " * 'GaussianNB'  \n",
    " * 'SVC'\n",
    " \n",
    "With all of them i got **precision and recall >.3**. The best perfomance in terms of accuracy and precision was achieved with naive bays (GaussianNB). The best recall and f1 score was obtained with support vector classification (SVC) after running a **GridsearchCV** for the best f1 score. The descion tree classifier was not checked further.\n",
    "Due to best f1 score i selected the **SVC classifier** for final project evaluation.\n",
    "Compared to non-POI there is a low proportion of POI in the dataset (uneven class distribution). Therefore the f1 score is a better identifier for a good working classifier compared to accuracy.  \n",
    "No further detailed investigation was done for naive bays classifier and descion tree classifier."
   ]
  },
  {
   "cell_type": "code",
   "execution_count": 12,
   "metadata": {},
   "outputs": [
    {
     "name": "stdout",
     "output_type": "stream",
     "text": [
      "\n",
      "Result Summary for K-Features\n",
      "\n",
      "    accuracy  precision   recall      f1  total_predictions    tp    fp    fn     tn\n",
      "4     0.8090     0.3020   0.2766  0.2887              13000   504  1165  1318  10013\n",
      "5     0.7890     0.3345   0.5903  0.4271              14000  1101  2190   764   9945\n",
      "6     0.7895     0.3369   0.6547  0.4449              14000  1181  2324   623   9872\n",
      "7     0.7767     0.3209   0.6563  0.4310              14000  1184  2506   620   9690\n",
      "8     0.7664     0.3087   0.6563  0.4199              14000  1184  2651   620   9545\n",
      "9     0.7660     0.3013   0.6489  0.4115              15000  1227  2846   664  10263\n",
      "10    0.7533     0.2916   0.6695  0.4063              15000  1266  3075   625  10034\n",
      "11    0.7475     0.2769   0.6224  0.3833              15000  1177  3074   714  10035\n",
      "12    0.7317     0.2505   0.5664  0.3473              15000  1071  3205   820   9904\n",
      "13    0.7226     0.2489   0.5949  0.3510              15000  1125  3395   766   9714\n",
      "14    0.7223     0.2482   0.5928  0.3499              15000  1121  3396   770   9713\n",
      "15    0.7057     0.2377   0.6044  0.3412              15000  1143  3666   748   9443\n",
      "16    0.7052     0.2216   0.5325  0.3129              15000  1007  3538   884   9571\n",
      "\n",
      "Best Results for  6  features\n",
      "\n",
      "Selected Fetaures:  6 ['exercised_stock_options', 'total_stock_value', 'bonus', 'salary', 'fraction_to_poi', 'deferred_income']\n",
      "\n",
      "              accuracy  precision   recall      f1  total_predictions    tp    fp    fn     tn\n",
      "DecisionTree    0.8147     0.2732   0.2639  0.2685              14000   476  1266  1328  10930\n",
      "GaussianNB      0.8595     0.4428   0.3498  0.3908              14000   631   794  1173  11402\n",
      "SVC             0.7895     0.3369   0.6547  0.4449              14000  1181  2324   623   9872\n",
      "\n"
     ]
    }
   ],
   "source": [
    "# Dictionary with different classifiers\n",
    "clf_dict = {'DecisionTree': DecisionTreeClassifier(class_weight=None, criterion='entropy', max_depth=None,\n",
    "                            max_features=None, max_leaf_nodes=None,\n",
    "                            min_impurity_decrease=0.0, min_impurity_split=None,\n",
    "                            min_samples_leaf=1, min_samples_split=3,\n",
    "                            min_weight_fraction_leaf=0.0, presort=False, random_state=0,\n",
    "                            splitter='best'),\n",
    "            'GaussianNB':   GaussianNB(),\n",
    "            'SVC':          SVC(C=300, cache_size=200, class_weight='balanced', coef0=0.0,\n",
    "                            decision_function_shape='ovr', degree=3, gamma=0.001, kernel='rbf',\n",
    "                            max_iter=-1, probability=False, random_state=None, shrinking=True,\n",
    "                            tol=0.001, verbose=False)}\n",
    "\n",
    "k=[4,5,6,7,8,9,10,11,12,13,14,15,16]\n",
    "\n",
    "clf_key = 'SVC'\n",
    "\n",
    "# Main function\n",
    "## Input:\n",
    "## [k] = list of different features quantity\n",
    "## clf_dict = dictionary with different classifiers\n",
    "## sorted_features_list = ranked features according KBest scores (complete)\n",
    "## my_dataset = modified data_dict\n",
    "f1, k_best_features_number, selected_features_list, pipe, df_k_result, df_k_best_result = poi.clf_func(k, clf_dict, sorted_features_list, my_dataset, clf_key)\n",
    "\n",
    "print ('')\n",
    "print ('Result Summary for K-Features')\n",
    "print ('')\n",
    "print (df_k_result)\n",
    "print ('')\n",
    "print ('Best Results for ', k_best_features_number, ' features')\n",
    "print ('')\n",
    "print ('Selected Fetaures: ',len(selected_features_list[1:]), selected_features_list[1:])\n",
    "print ('')\n",
    "print (df_k_best_result)\n",
    "print ('')"
   ]
  },
  {
   "cell_type": "code",
   "execution_count": 17,
   "metadata": {},
   "outputs": [
    {
     "data": {
      "text/plain": [
       "Text(0,0.5,'F1-Score')"
      ]
     },
     "execution_count": 17,
     "metadata": {},
     "output_type": "execute_result"
    },
    {
     "data": {
      "image/png": "[encoded data removed]",
      "text/plain": [
       "<Figure size 648x360 with 1 Axes>"
      ]
     },
     "metadata": {
      "needs_background": "light"
     },
     "output_type": "display_data"
    }
   ],
   "source": [
    "df_k_result.plot(kind='bar', y='f1', figsize=(9,5))\n",
    "plt.title('SVC F1 vs. K-Features')\n",
    "plt.xlabel('K-Feature')\n",
    "plt.ylabel('F1-Score')"
   ]
  },
  {
   "cell_type": "markdown",
   "metadata": {},
   "source": [
    "Project Question 4\n",
    "------\n",
    "\n",
    "*What does it mean to tune the parameters of an algorithm, and what can happen if you don’t do this well? How did you tune the parameters of your particular algorithm? What parameters did you tune? (Some algorithms do not have parameters that you need to tune -- if this is the case for the one you picked, identify and briefly explain how you would have done it for the model that was not your final choice or a different model that does utilize parameter tuning, e.g. a decision tree\n",
    "classifier). [relevant rubric items: “discuss parameter tuning”, “tune the algorithm”]*"
   ]
  },
  {
   "cell_type": "markdown",
   "metadata": {},
   "source": [
    "### Q4\n",
    "\n",
    "The SVC classifier was tuned using GridsearchCV for parameter C, gamma and class_weight on a training set of 80% of the available data. The remaining 20% were kept as test data.\n",
    "The GridsearchCV target score was set to 'f1', since it is the weighted average of precision and recall and takes both false positives and false negatives into account.\n",
    "If you tune your algorithm you have to take care that you repeat this process several times, especially if you have small datasets with an unbalanced class distribution. Otherwhise you might get pretty good results on your training set, but bad scores when you test your data. This effect is called over/underfitting.  \n",
    "In my case, i have used **StratifiedShuffleSplit** with 50 folds when running GridsearchCV.  \n",
    "The input classifier was setup with a randomly select C = 1000 and gamma ='auto'.  \n",
    "An optimal choice of the parameter set will decide about your final scores. It's a case by case descision on which score you want to concentrate, but of course if you can optimize the classifier to get both prescision and recall with good scores the job is done very well."
   ]
  },
  {
   "cell_type": "code",
   "execution_count": 14,
   "metadata": {},
   "outputs": [
    {
     "name": "stderr",
     "output_type": "stream",
     "text": [
      "C:\\Users\\PetzM\\anaconda3\\envs\\Machine_Learning\\lib\\site-packages\\sklearn\\metrics\\classification.py:1143: UndefinedMetricWarning: F-score is ill-defined and being set to 0.0 due to no predicted samples.\n",
      "  'precision', 'predicted', average, warn_for)\n"
     ]
    },
    {
     "name": "stdout",
     "output_type": "stream",
     "text": [
      "Proportion of poi in label_test :  0.143\n",
      "Proportion of poi in label_train :  0.127\n",
      "\n",
      "Grid best parameter:  {'clf__gamma': 0.01, 'clf__C': 300, 'clf__class_weight': 'balanced'}\n",
      "Grid best score:  0.5079696969696971\n",
      "Grid best estimator:  SVC(C=300, cache_size=200, class_weight='balanced', coef0=0.0,\n",
      "  decision_function_shape='ovr', degree=3, gamma=0.01, kernel='rbf',\n",
      "  max_iter=-1, probability=False, random_state=None, shrinking=True,\n",
      "  tol=0.001, verbose=False)\n",
      "\n",
      "Validate with test set.\n",
      "\n",
      "Validate accuracy:  0.714\n",
      "Validate precision:  0.25\n",
      "Validate recall:  0.5\n",
      "Validate f1:  0.333\n"
     ]
    }
   ],
   "source": [
    "from sklearn.model_selection import StratifiedShuffleSplit\n",
    "\n",
    "def get_param(key):\n",
    "\n",
    "    param_grid_dict = { 'SVC':         {'clf__C':               [1, 50, 100, 200, 300, 500, 1e3, 5e3, 1e4, 5e4, 1e5],\n",
    "                                        'clf__gamma':           ['scale','auto', 0.0001, 0.0005, 0.001, 0.005, 0.01, 0.1],\n",
    "                                        'clf__class_weight':    ['balanced', None]},\n",
    "                        'DecisionTree': {'clf__min_samples_split':  [2,3,4,5,6,7],\n",
    "                                        'clf__criterion':           ['gini', 'entropy'],\n",
    "                                        'clf__max_features':        [None, 1,2,3,4],\n",
    "                                        'clf__class_weight':        ['balanced', None]},\n",
    "                        'GaussianNB':   {},\n",
    "                                        }\n",
    " \n",
    "    return param_grid_dict[key]\n",
    "\n",
    "######\n",
    "\n",
    "def clf_opt(key,clf,features,labels):\n",
    "\n",
    "    param_grid = get_param(key)\n",
    "    \n",
    "    scaler = MinMaxScaler()\n",
    "\n",
    "    pipe = Pipeline([('scaler', scaler), ('clf', clf)])\n",
    "\n",
    "    cv = StratifiedShuffleSplit(n_splits=100,random_state=42)\n",
    "\n",
    "    search = GridSearchCV(pipe, param_grid,  cv = cv, scoring = 'f1')\n",
    "\n",
    "    features_train, features_test, labels_train, labels_test = train_test_split(features, labels, test_size=0.10, random_state=42, stratify=labels)\n",
    "    search.fit(features_train, labels_train)\n",
    "\n",
    "    print ('Proportion of poi in label_test : ',round(sum(labels_test)/len(labels_test),3))\n",
    "    print ('Proportion of poi in label_train : ',round(sum(labels_train)/len(labels_train),3))\n",
    "    print ('')\n",
    "    print ('Grid best parameter: ', search.best_params_)\n",
    "    print ('Grid best score: ', search.best_score_)\n",
    "    print ('Grid best estimator: ',search.best_estimator_.named_steps['clf'])\n",
    "    print ('')\n",
    "    clf = search.best_estimator_.named_steps['clf']\n",
    "    scaler = search.best_estimator_.named_steps['scaler']\n",
    "\n",
    "    features_test = scaler.transform(features_test)\n",
    "    labels_pred = clf.predict(features_test)\n",
    "    print ('Validate with test set.')\n",
    "    print ('')\n",
    "    print ('Validate accuracy: ',round(accuracy_score(labels_test, labels_pred),3))\n",
    "    print ('Validate precision: ',round(precision_score(labels_test, labels_pred),3))\n",
    "    print ('Validate recall: ',round(recall_score(labels_test, labels_pred),3))\n",
    "    print ('Validate f1: ',round(f1_score(labels_test, labels_pred),3))\n",
    "\n",
    "data = featureFormat(my_dataset, selected_features_list, sort_keys = True)\n",
    "labels, features = targetFeatureSplit(data)\n",
    "\n",
    "clf = SVC(C=1000, gamma='auto')\n",
    "key = 'SVC'\n",
    "\n",
    "clf_opt(key,clf,features,labels)"
   ]
  },
  {
   "cell_type": "markdown",
   "metadata": {},
   "source": [
    "Project Question 5\n",
    "------\n",
    "\n",
    "*What is validation, and what’s a classic mistake you can make if you do it wrong? How did you validate your analysis? [relevant rubric items: “discuss validation”, “validation strategy”]*"
   ]
  },
  {
   "cell_type": "markdown",
   "metadata": {},
   "source": [
    "### Q5\n",
    "\n",
    "As our goal is to train a classifier to provide reliable predictions on a **new data set**, we have to break off the available data into training and test set. The classifier is trained on the training data and the test data is considered as ***new data set***. We assume/hope the performance will be similar as when we use real new data.\n",
    "If you train your model on all available data and do the split afterwards the test data has already infiltrated the model since the test data was already used for training.  \n",
    "This might lead to a very well performing model, but once it's used to predict real new data, the results will be not accurate.  \n",
    "To be sure that your model works well, we validate the predicted values with a reserved test set.\n",
    "\n",
    "Also, if we have a very unbalanced class distribution, the risk is high to get with only a few iterations (small number of samples) pretty good results on our training set, but bad scores when on the test data.\n",
    "\n",
    "The algorithm parameter tuning was performed with GridsearchCV on a 90% training set with 100 random splits on this training data. The results have been validated once on a 10% test set, which was not used for training.\n",
    "\n",
    "As next step, the tuned classifier was tested on **1000** different train/test samples using ***train_test_split*** method with a **90/10** split. Different samples were generated by changing the random_state parameter 1000 times.\n",
    "\n",
    "\n",
    "As comparison the **tester_project.py** is using ***StratifiedShuffleSplit*** which is a different method to generate 1000 folds.\n",
    "\n",
    "Both validation functions are counting the total number of predictions, as well as:\n",
    " * True Positives (tp)\n",
    " * False Positives (fp)\n",
    " * False Negatives (fn)\n",
    " * True Negatives (tn)\n",
    " \n",
    "Based on this values the following metric scores are caluclated:\n",
    " * Accuracy\n",
    " * Prescision\n",
    " * Recall\n",
    " * F1\n",
    " * F2"
   ]
  },
  {
   "cell_type": "markdown",
   "metadata": {},
   "source": [
    "Project Question 6\n",
    "------\n",
    "\n",
    "*Give at least 2 evaluation metrics and your average performance for each of them. Explain an interpretation of your metrics that says something human-understandable about your algorithm’s performance.[relevant rubric item: “usage of evaluation metrics”]*"
   ]
  },
  {
   "cell_type": "markdown",
   "metadata": {},
   "source": [
    "### Q6\n",
    "\n",
    "The results of my classifier meets the target score for prescision and recall >0.3.  \n",
    "\n",
    " * Prescision = ratio of true positives / total positives\n",
    " * Recall = ratio of true positives / (true positives + false negatives)  \n",
    " \n",
    "I would say that my classifier works on the conservative side. I have a good recall score, which means a relative small number of false negative which is good. My prescision score has still some room for improvement, which can be seen on the relative high count of false positives.\n",
    "My classifier predicts real POIs but will trigger a lot of false alarms. But this is at lease better to have a high number of false negatives.\n",
    "\n",
    "Finally it's a case by case descision, if we want to accept the false positives or not. At the end it's a businiss case."
   ]
  },
  {
   "cell_type": "code",
   "execution_count": 15,
   "metadata": {},
   "outputs": [
    {
     "name": "stdout",
     "output_type": "stream",
     "text": [
      "\n",
      "True Positives (tp) : 1181.0\n",
      "False Positives (fp) : 2324.0\n",
      "False Negatives (fn) : 623.0\n",
      "True Negatives (tn) : 9872.0\n",
      "\n",
      "Accuracy:  0.7895\n",
      "Prescision:  0.3369472182596291\n",
      "Recall:  0.6546563192904656\n"
     ]
    }
   ],
   "source": [
    "acc, pre, rec, f1, total, tp, fp, fn, tn = df_k_result.loc[k_best_features_number].to_numpy()\n",
    "\n",
    "print ('')\n",
    "print ('True Positives (tp) :', tp)\n",
    "print ('False Positives (fp) :', fp)\n",
    "print ('False Negatives (fn) :', fn)\n",
    "print ('True Negatives (tn) :', tn)\n",
    "print ('')\n",
    "print ('Accuracy: ', (tp+tn)/(tp+fp+tn+fn))\n",
    "print ('Prescision: ', tp/(tp+fp))\n",
    "print ('Recall: ', tp/(tp+fn))\n"
   ]
  },
  {
   "cell_type": "markdown",
   "metadata": {},
   "source": [
    "Evaluation\n",
    "------\n",
    "\n"
   ]
  },
  {
   "cell_type": "markdown",
   "metadata": {},
   "source": [
    "The **tester_project.py** which is using ***StratifiedShuffleSplit*** gives similar results as the ***train_test_split*** method."
   ]
  },
  {
   "cell_type": "code",
   "execution_count": 16,
   "metadata": {},
   "outputs": [
    {
     "name": "stdout",
     "output_type": "stream",
     "text": [
      "Pipeline(memory=None,\n",
      "     steps=[('scaler', MinMaxScaler(copy=True, feature_range=(0, 1))), ('clf', SVC(C=300, cache_size=200, class_weight='balanced', coef0=0.0,\n",
      "  decision_function_shape='ovr', degree=3, gamma=0.001, kernel='rbf',\n",
      "  max_iter=-1, probability=False, random_state=None, shrinking=True,\n",
      "  tol=0.001, verbose=False))])\n",
      "\tAccuracy: 0.79121\tPrecision: 0.37011\tRecall: 0.65750\tF1: 0.47362\tF2: 0.56912\n",
      "\tTotal predictions: 14000\tTrue positives: 1315\tFalse positives: 2238\tFalse negatives:  685\tTrue negatives: 9762\n",
      "\n"
     ]
    }
   ],
   "source": [
    "# Save project data as pkl files\n",
    "\n",
    "CLF_PICKLE_FILENAME = \"my_classifier.pkl\"\n",
    "DATASET_PICKLE_FILENAME = \"my_dataset.pkl\"\n",
    "FEATURE_LIST_FILENAME = \"my_feature_list.pkl\"\n",
    "\n",
    "def dump_classifier_and_data(clf, dataset, feature_list):\n",
    "    with open(CLF_PICKLE_FILENAME, \"w\") as clf_outfile:\n",
    "        pickle.dump(clf, clf_outfile)\n",
    "    with open(DATASET_PICKLE_FILENAME, \"w\") as dataset_outfile:\n",
    "        pickle.dump(dataset, dataset_outfile)\n",
    "    with open(FEATURE_LIST_FILENAME, \"w\") as featurelist_outfile:\n",
    "        pickle.dump(feature_list, featurelist_outfile)\n",
    "\n",
    "dump_classifier_and_data(pipe, my_dataset, selected_features_list)\n",
    "\n",
    "# Load pkl files for evaluation\n",
    "tester.test_classifier(pipe, my_dataset, selected_features_list, folds = 1000)\n"
   ]
  }
 ],
 "metadata": {
  "kernelspec": {
   "display_name": "Python 2",
   "language": "python",
   "name": "python2"
  },
  "language_info": {
   "codemirror_mode": {
    "name": "ipython",
    "version": 2
   },
   "file_extension": ".py",
   "mimetype": "text/x-python",
   "name": "python",
   "nbconvert_exporter": "python",
   "pygments_lexer": "ipython2",
   "version": "2.7.18"
  }
 },
 "nbformat": 4,
 "nbformat_minor": 2
}
